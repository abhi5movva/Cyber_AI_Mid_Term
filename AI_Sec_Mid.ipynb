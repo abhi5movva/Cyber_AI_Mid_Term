{
  "nbformat": 4,
  "nbformat_minor": 0,
  "metadata": {
    "colab": {
      "name": "AI_Sec_Mid.ipynb",
      "provenance": [],
      "collapsed_sections": [],
      "machine_shape": "hm"
    },
    "kernelspec": {
      "name": "python3",
      "display_name": "Python 3"
    },
    "language_info": {
      "name": "python"
    },
    "accelerator": "GPU"
  },
  "cells": [
    {
      "cell_type": "code",
      "metadata": {
        "colab": {
          "base_uri": "https://localhost:8080/"
        },
        "id": "agHjzgf9tdro",
        "outputId": "95de2d33-1837-46c2-bd56-48efad4c3176"
      },
      "source": [
        "from google.colab import drive\n",
        "drive.mount('/content/drive')"
      ],
      "execution_count": null,
      "outputs": [
        {
          "output_type": "stream",
          "name": "stdout",
          "text": [
            "Drive already mounted at /content/drive; to attempt to forcibly remount, call drive.mount(\"/content/drive\", force_remount=True).\n"
          ]
        }
      ]
    },
    {
      "cell_type": "code",
      "metadata": {
        "id": "336Q7cF7rbFm"
      },
      "source": [
        "# Data loading and train/test split\n",
        "!mkdir /content/data\n",
        "!unzip \"/content/drive/MyDrive/Temp/Abhinaya/11_Oct-17_Oct/1550K MALWARE ANALYSIS DATASETS_API IMPORT.zip\" -d /content/data\n",
        "\n",
        "# A sample set \n",
        "!head -100 \"/content/data/MALWARE ANALYSIS DATASETS_API IMPORT.csv\" > /content/sample.csv\n",
        "\n",
        "# Train set\n",
        "!head -1240001 \"/content/data/MALWARE ANALYSIS DATASETS_API IMPORT.csv\" > /content/data/train.csv\n",
        "\n",
        "# Test set\n",
        "!head -1 \"/content/data/MALWARE ANALYSIS DATASETS_API IMPORT.csv\" > /content/data/test.csv\n",
        "!tail -150000 \"/content/data/MALWARE ANALYSIS DATASETS_API IMPORT.csv\" >> /content/data/test.csv\n"
      ],
      "execution_count": null,
      "outputs": []
    },
    {
      "cell_type": "code",
      "metadata": {
        "id": "wrveHgcVyJTM"
      },
      "source": [
        "# Check a sample set\n",
        "import pandas as pd\n",
        "sample_path = \"/content/sample.csv\"\n",
        "data = pd.read_csv(sample_path)\n",
        "#data.shape\n",
        "\n",
        "# Create dataset path\n",
        "train_path=\"/content/data/train.csv\"\n",
        "test_path=\"/content/data/test.csv\"\n",
        "\n",
        "import tensorflow as tf\n",
        "# Custom Data Generators\n",
        "def train_data():\n",
        "    while True:\n",
        "        for data,label in train:\n",
        "            yield pd.DataFrame(data).to_numpy(), pd.Series(label).to_numpy()\n",
        "\n",
        "def test_data():\n",
        "    while True:\n",
        "        for data,label in test:\n",
        "            yield pd.DataFrame(data).to_numpy(), pd.Series(label).to_numpy()"
      ],
      "execution_count": null,
      "outputs": []
    },
    {
      "cell_type": "code",
      "metadata": {
        "id": "mGqV0gprgxPh"
      },
      "source": [
        "from keras.models import Sequential\n",
        "from keras.layers import Dense\n",
        "from keras.layers import Flatten\n",
        "from keras.layers import Dropout\n",
        "from keras.layers.convolutional import Conv1D\n",
        "from keras.layers.convolutional import MaxPooling1D"
      ],
      "execution_count": null,
      "outputs": []
    },
    {
      "cell_type": "code",
      "metadata": {
        "colab": {
          "base_uri": "https://localhost:8080/"
        },
        "id": "zJ5r7HOoXrie",
        "outputId": "4438a076-89aa-49bf-c19b-c3d6f448fdf8"
      },
      "source": [
        "n_timesteps=1000\n",
        "n_features=1\n",
        "n_outputs=1\n",
        "\n",
        "model = Sequential()\n",
        "model.add(tf.keras.layers.Reshape((1000, 1), input_shape=(1000,)))\n",
        "model.add(Conv1D(filters=256, kernel_size=50, activation='relu'))\n",
        "model.add(MaxPooling1D(pool_size=2))\n",
        "model.add(Dropout(0.5))\n",
        "model.add(Conv1D(filters=64, kernel_size=50, activation='relu'))\n",
        "model.add(MaxPooling1D(pool_size=2))\n",
        "model.add(Dropout(0.5))\n",
        "\n",
        "model.add(Flatten())\n",
        "model.add(Dense(100, activation='relu'))\n",
        "model.add(Dense(n_outputs, activation='sigmoid'))\n",
        "\n",
        "model.compile(loss='binary_crossentropy', optimizer='adam', metrics=['accuracy'])\n",
        "\n",
        "model.fit(train_data(), steps_per_epoch=int(1240000/128),epochs=2)"
      ],
      "execution_count": null,
      "outputs": [
        {
          "output_type": "stream",
          "name": "stdout",
          "text": [
            "9687/9687 [==============================] - 2142s 218ms/step - loss: 0.2302 - accuracy: 0.9008\n"
          ]
        },
        {
          "output_type": "execute_result",
          "data": {
            "text/plain": [
              "<keras.callbacks.History at 0x7f532d4af2d0>"
            ]
          },
          "metadata": {},
          "execution_count": 5
        }
      ]
    },
    {
      "cell_type": "code",
      "metadata": {
        "id": "vhbGMMn6qxOL",
        "colab": {
          "base_uri": "https://localhost:8080/"
        },
        "outputId": "9557b939-f9fe-41d5-b210-4ac28d9c3fc1"
      },
      "source": [
        "# Evaluation on test data\n",
        "import numpy as np, pandas as pd\n",
        "def get_acc(test_path, model):\n",
        "    test_data = pd.read_csv(test_path)\n",
        "    y_test=test_data.label.to_numpy()\n",
        "    test_data=test_data.iloc[:,3:]\n",
        "\n",
        "    y_pred = model.predict(test_data)\n",
        "    y_pred =  np.where(y_pred<0.5,0.,1.)\n",
        "\n",
        "#    accuracy, precision, recall, F-1, confusion matrix\n",
        "    from sklearn.metrics import precision_score,f1_score, recall_score, confusion_matrix, accuracy_score\n",
        "    acc = accuracy_score(y_test,y_pred)#(y_pred.ravel()==y_test).sum()/y_test.shape[0]\n",
        "\n",
        "    print(\"Accuracy - \",acc)\n",
        "    print(\"Recall - \",recall_score(y_test,y_pred))\n",
        "    print(\"Precision - \",precision_score(y_test,y_pred))\n",
        "    print(\"F1 - \",f1_score(y_test,y_pred))\n",
        "    print(\"CM - \",confusion_matrix(y_test,y_pred))\n",
        "\n",
        "    return acc, y_pred\n",
        "\n",
        "get_acc(test_path, model)\n",
        "\n",
        "#del y_pred ;import gc ;gc.collect()\n"
      ],
      "execution_count": null,
      "outputs": [
        {
          "output_type": "stream",
          "name": "stdout",
          "text": [
            "Accuracy -  0.82232\n",
            "Recall -  0.7526084056037359\n",
            "Precision -  0.8742986453392851\n",
            "F1 -  0.808902400550664\n",
            "CM -  [[66940  8110]\n",
            " [18542 56408]]\n"
          ]
        }
      ]
    },
    {
      "cell_type": "markdown",
      "metadata": {
        "id": "5FMXlEeh-arp"
      },
      "source": [
        "**Post-Training:**\n",
        "<br>Once your model is trained, save and store the model. Then, create a function (or method) that takes a PE file as its argument, runs it through the trained model, and returns the output (i.e., Malware or Benign)."
      ]
    },
    {
      "cell_type": "code",
      "metadata": {
        "colab": {
          "base_uri": "https://localhost:8080/"
        },
        "id": "7AFP1CPb-ggR",
        "outputId": "07f9d546-5bc6-47a7-899f-12771721ebc9"
      },
      "source": [
        "# Save model\n",
        "model_path=\"/content/drive/MyDrive/Temp/Abhinaya/11_Oct-17_Oct/model.h5\"\n",
        "#model.save(model_path)\n",
        "\n",
        "from keras.models import load_model\n",
        "def validate(path):\n",
        "    model = load_model(model_path)\n",
        "\n",
        "    acc, y_pred=get_acc(path, model)\n",
        "    return y_pred\n",
        "\n",
        "# Test for the sample data\n",
        "y_pred_sample=validate(\"/content/sample.csv\").ravel()"
      ],
      "execution_count": null,
      "outputs": [
        {
          "output_type": "execute_result",
          "data": {
            "text/plain": [
              "array([[0.],\n",
              "       [0.],\n",
              "       [0.],\n",
              "       ...,\n",
              "       [0.],\n",
              "       [0.],\n",
              "       [1.]])"
            ]
          },
          "metadata": {},
          "execution_count": 27
        }
      ]
    },
    {
      "cell_type": "markdown",
      "metadata": {
        "id": "Fm45iG46-qKp"
      },
      "source": [
        "**Task 2 - Deploy your model on the cloud:**\n",
        "<br>In this task, you will be using Amazon Sagemaker to deploy your model on the cloud, and create an endpoint (~ API) so that other applications can make use of the model."
      ]
    },
    {
      "cell_type": "code",
      "metadata": {
        "id": "sOz10Pvi-ui8"
      },
      "source": [
        "# Sagemaker is throwing error with this version of TF/Py\n",
        "export_dir = 'export/Servo/1/'\n",
        "\n",
        "import tensorflow as tf\n",
        "tf.saved_model.save(model, export_dir)\n",
        "\n",
        "import tarfile\n",
        "\n",
        "output_filename=\"/content/model.tar.gz\"\n",
        "with tarfile.open(output_filename, \"w:gz\") as tar:\n",
        "    tar.add(\"export\")"
      ],
      "execution_count": null,
      "outputs": []
    },
    {
      "cell_type": "code",
      "metadata": {
        "id": "vKuP082ksGKn"
      },
      "source": [
        "# Upload the tar to ASW S3\n",
        "!pip install boto3\n",
        "import boto3\n",
        "from boto3.session import Session\n",
        "\n",
        "AWS_ACCESS_KEY_ID = 'XXXXXXXXXXXXXXXXXXXXXXXXXXXX'\n",
        "AWS_SECRET_ACCESS_KEY = 'XXXXXXXXXXXXXXXXXXXXXXXXXXXX'\n",
        "\n",
        "session = Session(aws_access_key_id=AWS_ACCESS_KEY_ID,aws_secret_access_key=AWS_SECRET_ACCESS_KEY)\n",
        "s3 = session.resource('s3')\n",
        "\n",
        "BUCKET = \"ai-sec-mid\"\n",
        "s3.Bucket(BUCKET).upload_file(output_filename, \"model.tar.gz\")"
      ],
      "execution_count": null,
      "outputs": []
    },
    {
      "cell_type": "code",
      "metadata": {
        "id": "qujOxVovsOXm"
      },
      "source": [
        "# Create an End point for the trained model\n",
        "!pip install sagemaker\n",
        "from sagemaker.tensorflow.model import TensorFlowModel\n",
        "\n",
        "import os\n",
        "os.environ['AWS_DEFAULT_REGION'] = 'us-east-2'\n",
        "os.environ['AWS_ACCESS_KEY_ID'] = 'XXXXXXXXXXXXXXXXXXXXXXXXXXXX'\n",
        "os.environ['AWS_SECRET_ACCESS_KEY'] = 'XXXXXXXXXXXXXXXXXXXXXXXXXXXX'\n",
        "\n",
        "model = TensorFlowModel(model_data='s3://ai-sec-mid/model.tar.gz', \n",
        "                        role='AmazonSageMaker-ExecutionRole-20211013T210978',\n",
        "                        framework_version = '2.4.1', entry_point='train.py')\n",
        "\n",
        "predictor = model.deploy(initial_instance_count=1, instance_type='ml.m4.xlarge')\n"
      ],
      "execution_count": null,
      "outputs": []
    },
    {
      "cell_type": "markdown",
      "metadata": {
        "id": "S3mHDOCG-1G1"
      },
      "source": [
        "**Task 3 –Create a client:**\n",
        "<br>This task is quite simple as well: create a Python code that *loads* a PE file, converts it into a feature vector that is compatiblewith your MalConv/EMBER model, runs the vector on the cloud API, and then prints the results (i.e., Malware or Benign –or probabilities of each)."
      ]
    },
    {
      "cell_type": "code",
      "metadata": {
        "id": "9TiT-V5g-6uI"
      },
      "source": [
        "# Predict for the sample data\n",
        "from sagemaker.predictor import Predictor\n",
        "endpoint = 'sagemaker-tensorflow-serving-2021-10-16-07-35-22-029'\n",
        "\n",
        "test_data = pd.read_csv(\"/content/sample.csv\")\n",
        "y_test=test_data.label.to_numpy()\n",
        "test_data=test_data.iloc[:,3:]\n",
        "\n",
        "predictor = Predictor(endpoint)\n",
        "inference_response = predictor.predict(data=test_data)\n",
        "\n",
        "y_pred =  np.where(y_pred<0.5,0.,1.)"
      ],
      "execution_count": null,
      "outputs": []
    }
  ]
}